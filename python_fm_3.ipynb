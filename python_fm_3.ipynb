{
 "cells": [
  {
   "cell_type": "markdown",
   "metadata": {},
   "source": [
    "# Working with Python: functions and modules\n",
    "\n",
    "## Session 3: Modules\n",
    "\n",
    "- [Importing modules and libraries](#Importing-modules-and-libraries)\n",
    "- [Python file library](#Python-file-library)\n",
    "- [Exercise 3.1](#Exercise-3.1)\n",
    "- [Using the `csv` module](#Using-the-csv-module)\n",
    "- [Exercise 3.2](#Exercise-3.2)\n",
    "- [Create your own module](#Create-your-own-module)\n",
    "- [Exercise 3.3](#Exercise-3.3)\n",
    "- [Exercise 3.4](#Exercise-3.4)"
   ]
  },
  {
   "cell_type": "markdown",
   "metadata": {},
   "source": [
    "## Importing modules and libraries"
   ]
  },
  {
   "cell_type": "markdown",
   "metadata": {},
   "source": [
    "Like other laguages, Python has the ability to import external modules (or libraries) into the current program. These modules may be part of the standard library that is automatically included with the Python installation, they may be extra libraries which you install separately or they may be other Python programs you have written yourself. Whatever the source of the module, they are imported into a program via an **`import`** command.\n",
    "\n",
    "For example, if we wish to access the mathematical constants `pi` and `e` we can use the import keyword to get [the module named `math`](https://docs.python.org/3/library/math.html) and access its contents with the dot notation:"
   ]
  },
  {
   "cell_type": "code",
<<<<<<< HEAD
   "execution_count": 1,
   "metadata": {},
   "outputs": [
    {
     "name": "stdout",
     "output_type": "stream",
     "text": [
      "3.141592653589793 2.718281828459045\n"
     ]
    }
   ],
=======
   "execution_count": null,
   "metadata": {},
   "outputs": [],
>>>>>>> origin/master
   "source": [
    "import math\n",
    "print(math.pi, math.e)"
   ]
  },
  {
   "cell_type": "markdown",
   "metadata": {},
   "source": [
    "Also we can use the `as` keyword to give the module a different name in our code, which can be useful for brevity and avoiding name conflicts:"
   ]
  },
  {
   "cell_type": "code",
<<<<<<< HEAD
   "execution_count": 2,
   "metadata": {},
   "outputs": [
    {
     "name": "stdout",
     "output_type": "stream",
     "text": [
      "3.141592653589793 2.718281828459045\n"
     ]
    }
   ],
=======
   "execution_count": null,
   "metadata": {},
   "outputs": [],
>>>>>>> origin/master
   "source": [
    "import math as m\n",
    "print(m.pi, m.e)"
   ]
  },
  {
   "cell_type": "markdown",
   "metadata": {},
   "source": [
    "Alternatively we can import the separate components using the `from … import` keyword combination:"
   ]
  },
  {
   "cell_type": "code",
<<<<<<< HEAD
   "execution_count": 3,
   "metadata": {},
   "outputs": [
    {
     "name": "stdout",
     "output_type": "stream",
     "text": [
      "3.141592653589793 2.718281828459045\n"
     ]
    }
   ],
=======
   "execution_count": null,
   "metadata": {},
   "outputs": [],
>>>>>>> origin/master
   "source": [
    "from math import pi, e\n",
    "print(pi, e)"
   ]
  },
  {
   "cell_type": "markdown",
   "metadata": {},
   "source": [
    "We can import multiple components from a single module, either on one line like as seen above or on separate lines:"
   ]
  },
  {
   "cell_type": "code",
<<<<<<< HEAD
   "execution_count": 4,
=======
   "execution_count": null,
>>>>>>> origin/master
   "metadata": {
    "collapsed": true
   },
   "outputs": [],
   "source": [
    "from math import pi\n",
    "from math import e"
   ]
  },
  {
   "cell_type": "markdown",
   "metadata": {},
   "source": [
    "### Listing module contents\n",
    "\n",
    "Using the [method `dir()`](https://docs.python.org/3/library/functions.html?highlight=dir#dir) and passing the module name:"
   ]
  },
  {
   "cell_type": "code",
<<<<<<< HEAD
   "execution_count": 5,
   "metadata": {},
   "outputs": [
    {
     "data": {
      "text/plain": [
       "['__doc__',\n",
       " '__loader__',\n",
       " '__name__',\n",
       " '__package__',\n",
       " '__spec__',\n",
       " 'acos',\n",
       " 'acosh',\n",
       " 'asin',\n",
       " 'asinh',\n",
       " 'atan',\n",
       " 'atan2',\n",
       " 'atanh',\n",
       " 'ceil',\n",
       " 'copysign',\n",
       " 'cos',\n",
       " 'cosh',\n",
       " 'degrees',\n",
       " 'e',\n",
       " 'erf',\n",
       " 'erfc',\n",
       " 'exp',\n",
       " 'expm1',\n",
       " 'fabs',\n",
       " 'factorial',\n",
       " 'floor',\n",
       " 'fmod',\n",
       " 'frexp',\n",
       " 'fsum',\n",
       " 'gamma',\n",
       " 'hypot',\n",
       " 'isfinite',\n",
       " 'isinf',\n",
       " 'isnan',\n",
       " 'ldexp',\n",
       " 'lgamma',\n",
       " 'log',\n",
       " 'log10',\n",
       " 'log1p',\n",
       " 'log2',\n",
       " 'modf',\n",
       " 'pi',\n",
       " 'pow',\n",
       " 'radians',\n",
       " 'sin',\n",
       " 'sinh',\n",
       " 'sqrt',\n",
       " 'tan',\n",
       " 'tanh',\n",
       " 'trunc']"
      ]
     },
     "execution_count": 5,
     "metadata": {},
     "output_type": "execute_result"
    }
   ],
=======
   "execution_count": null,
   "metadata": {},
   "outputs": [],
>>>>>>> origin/master
   "source": [
    "import math\n",
    "dir(math)"
   ]
  },
  {
   "cell_type": "markdown",
   "metadata": {},
   "source": [
    "or directly using an instance, like with this String:"
   ]
  },
  {
   "cell_type": "code",
<<<<<<< HEAD
   "execution_count": 6,
   "metadata": {},
   "outputs": [
    {
     "data": {
      "text/plain": [
       "['__add__',\n",
       " '__class__',\n",
       " '__contains__',\n",
       " '__delattr__',\n",
       " '__dir__',\n",
       " '__doc__',\n",
       " '__eq__',\n",
       " '__format__',\n",
       " '__ge__',\n",
       " '__getattribute__',\n",
       " '__getitem__',\n",
       " '__getnewargs__',\n",
       " '__gt__',\n",
       " '__hash__',\n",
       " '__init__',\n",
       " '__iter__',\n",
       " '__le__',\n",
       " '__len__',\n",
       " '__lt__',\n",
       " '__mod__',\n",
       " '__mul__',\n",
       " '__ne__',\n",
       " '__new__',\n",
       " '__reduce__',\n",
       " '__reduce_ex__',\n",
       " '__repr__',\n",
       " '__rmod__',\n",
       " '__rmul__',\n",
       " '__setattr__',\n",
       " '__sizeof__',\n",
       " '__str__',\n",
       " '__subclasshook__',\n",
       " 'capitalize',\n",
       " 'casefold',\n",
       " 'center',\n",
       " 'count',\n",
       " 'encode',\n",
       " 'endswith',\n",
       " 'expandtabs',\n",
       " 'find',\n",
       " 'format',\n",
       " 'format_map',\n",
       " 'index',\n",
       " 'isalnum',\n",
       " 'isalpha',\n",
       " 'isdecimal',\n",
       " 'isdigit',\n",
       " 'isidentifier',\n",
       " 'islower',\n",
       " 'isnumeric',\n",
       " 'isprintable',\n",
       " 'isspace',\n",
       " 'istitle',\n",
       " 'isupper',\n",
       " 'join',\n",
       " 'ljust',\n",
       " 'lower',\n",
       " 'lstrip',\n",
       " 'maketrans',\n",
       " 'partition',\n",
       " 'replace',\n",
       " 'rfind',\n",
       " 'rindex',\n",
       " 'rjust',\n",
       " 'rpartition',\n",
       " 'rsplit',\n",
       " 'rstrip',\n",
       " 'split',\n",
       " 'splitlines',\n",
       " 'startswith',\n",
       " 'strip',\n",
       " 'swapcase',\n",
       " 'title',\n",
       " 'translate',\n",
       " 'upper',\n",
       " 'zfill']"
      ]
     },
     "execution_count": 6,
     "metadata": {},
     "output_type": "execute_result"
    }
   ],
=======
   "execution_count": null,
   "metadata": {},
   "outputs": [],
>>>>>>> origin/master
   "source": [
    "dir(\"mystring\")"
   ]
  },
  {
   "cell_type": "markdown",
   "metadata": {},
   "source": [
    "or using the object type"
   ]
  },
  {
   "cell_type": "code",
<<<<<<< HEAD
   "execution_count": 14,
   "metadata": {},
   "outputs": [
    {
     "data": {
      "text/plain": [
       "'meh'"
      ]
     },
     "execution_count": 14,
     "metadata": {},
     "output_type": "execute_result"
    }
   ],
   "source": [
    "dir(str)\n",
    "'meh'"
=======
   "execution_count": null,
   "metadata": {},
   "outputs": [],
   "source": [
    "dir(str)"
>>>>>>> origin/master
   ]
  },
  {
   "cell_type": "markdown",
   "metadata": {},
   "source": [
    "### Getting help from the official Python documentation"
   ]
  },
  {
   "cell_type": "markdown",
   "metadata": {},
   "source": [
    "The most useful information is online on https://www.python.org/ website and should  be used as a reference guide.\n",
    "\n",
    "- [Python3 documentation](https://docs.python.org/3/) is the starting page with links to tutorials and libraries' documentation for Python 3\n",
    "    - [The Python Tutorial](https://docs.python.org/3/tutorial/index.html)\n",
    "        - [Modules](https://docs.python.org/3/tutorial/modules.html)\n",
    "        - [Brief Tour of the Standard Library: Mathematics](https://docs.python.org/3/tutorial/stdlib.html#mathematics)\n",
    "    - [The Python Standard Library Reference](https://docs.python.org/3/library/index.html) is the reference documentation of all libraries included in Python like:\n",
    "        - [`math` — Mathematical functions](https://docs.python.org/3/library/math.html)\n",
    "        - [`os.path` — Common pathname manipulations](https://docs.python.org/3/library/os.path.html)\n",
    "        - [`os` — Miscellaneous operating system interfaces](https://docs.python.org/3/library/os.html)\n",
    "        - [`csv` — CSV File Reading and Writing](https://docs.python.org/3/library/csv.html)"
   ]
  },
  {
   "cell_type": "markdown",
   "metadata": {},
   "source": [
    "## Python file library"
   ]
  },
  {
   "cell_type": "markdown",
   "metadata": {},
   "source": [
    "### [`os.path` — Common pathname manipulations](https://docs.python.org/3/library/os.path.html)\n",
    "\n",
    "- `exists(path)` : returns whether path exists\n",
    "- `isfile(path)` : returns whether path is a “regular” file (as opposed to a directory)\n",
    "- `isdir(path)` : returns whether path is a directory\n",
    "- `islink(path)` : returns whether path is a symbolic link\n",
    "- `join(*paths)` : joins the paths together into one long path\n",
    "- `dirname(path)` : returns directory containing the path\n",
    "- `basename(path)` : returns the path minus the dirname(path) in front\n",
    "- `split(path)` : returns (dirname(path), basename(path))\n",
    "\n",
    "### [`os` — Miscellaneous operating system interfaces](https://docs.python.org/3/library/os.html)\n",
    "\n",
    "- `chdir(path)` : change the current working directory to be path\n",
    "- `getcwd()` : return the current working directory\n",
    "- `listdir(path)` : returns a list of files/directories in the directory path\n",
    "- `mkdir(path)` : create the directory path\n",
    "- `rmdir(path)` : remove the directory path\n",
    "- `remove(path)` : remove the file path\n",
    "- `rename(src, dst)` : move the file/directory from src to dst"
   ]
  },
  {
   "cell_type": "markdown",
   "metadata": {},
   "source": [
    "Building the path to your file from a list of directory and filename makes your script able to run on any platforms."
   ]
  },
  {
   "cell_type": "code",
<<<<<<< HEAD
   "execution_count": 15,
   "metadata": {},
   "outputs": [
    {
     "data": {
      "text/plain": [
       "'data/mydata.txt'"
      ]
     },
     "execution_count": 15,
     "metadata": {},
     "output_type": "execute_result"
    }
   ],
=======
   "execution_count": null,
   "metadata": {},
   "outputs": [],
>>>>>>> origin/master
   "source": [
    "import os.path\n",
    "os.path.join(\"data\", \"mydata.txt\")\n",
    "# data/mydata.txt - Unix\n",
    "# data\\mydata.txt - Windows"
   ]
  },
  {
   "cell_type": "markdown",
   "metadata": {},
   "source": [
    "Check if a file exists before opening it:"
   ]
  },
  {
   "cell_type": "code",
<<<<<<< HEAD
   "execution_count": 16,
   "metadata": {},
   "outputs": [
    {
     "name": "stdout",
     "output_type": "stream",
     "text": [
      "file data/mydata.txt exists\n",
      "Index Organism Score\n",
      "1 Human 1.076\n",
      "2 Mouse 1.202\n",
      "3 Frog 2.2362\n",
      "4 Fly 0.9853\n",
      "\n"
     ]
    }
   ],
=======
   "execution_count": null,
   "metadata": {},
   "outputs": [],
>>>>>>> origin/master
   "source": [
    "import os.path\n",
    "data_file = os.path.join(\"data\", \"mydata.txt\")\n",
    "if os.path.exists(data_file):\n",
    "    print(\"file\", data_file, \"exists\")\n",
    "    with open(data_file) as f:\n",
    "        print(f.read())\n",
    "else:\n",
    "    print(\"file\", data_file, \"not found!\")"
   ]
  },
  {
   "cell_type": "markdown",
   "metadata": {},
   "source": [
    "## Exercise 3.1\n",
    "\n",
    "Write a script that reads a tab delimited file which has 4 columns: gene, chromosome, start and end coordinates. Check if the file exists, then compute the length of each gene and store its name and corresponding length into a dictionary. Write the results into a new tab separated file. You can find a data file in `data/genes.txt` directory of the course materials."
   ]
  },
  {
<<<<<<< HEAD
   "cell_type": "code",
   "execution_count": 41,
   "metadata": {},
   "outputs": [
    {
     "name": "stdout",
     "output_type": "stream",
     "text": [
      "file found - data/genes.txt\n",
      "gene\tchrom\tstart\tend\n",
      "\n"
     ]
    }
   ],
   "source": [
    "filepath = os.path.join(\"data\", \"genes.txt\")\n",
    "\n",
    "def GenLenFrmFile(data_file):\n",
    "    if os.path.exists(data_file):\n",
    "        print('file found - ' + data_file)\n",
    "        with open(data_file) as f: \n",
    "            for line in f:\n",
    "                \n",
    "                #split line in to elements\n",
    "                gene, chrom, start, end = line.split(\"\\t\")\n",
    "                \n",
    "                #if these are the titles of everything print but don't add to stuff \n",
    "                if gene == 'gene':\n",
    "                    print(line)\n",
    "                    headers = line\n",
    "                    continue \n",
    "                    \n",
    "                #calculate length \n",
    "                length_o_gene = int(end) - int(start)\n",
    "                \n",
    "                #add to the dictionary \n",
    "                geneLenDict[gene] = length_o_gene\n",
    "                \n",
    "\n",
    "        return geneLenDict\n",
    "\n",
    "                \n",
    "\n",
    "def Dict2File_2fields (dictin, filename, header):# appending to a file \n",
    "    with open(filename, 'w') as f:\n",
    "        f.write(header)\n",
    "        for line in dictin: \n",
    "            f.write( line+ \"\\t\" + str(dictin[line]) +'\\n')\n",
    "\n",
    "#Get dictionary from filepath\n",
    "ToWrite = GenLenFrmFile(filepath)\n",
    "\n",
    "#Save this in a new text file \n",
    "Dict2File_2fields(ToWrite, 'GeneLength.txt', 'Gene\\tLength\\n')    \n",
    "    "
   ]
  },
  {
   "cell_type": "code",
   "execution_count": 36,
   "metadata": {},
   "outputs": [
    {
     "name": "stdout",
     "output_type": "stream",
     "text": [
      "37154\n",
      "16098\n",
      "84194\n"
     ]
    }
   ],
   "source": [
    "for line in ToWrite:\n",
    "    print(ToWrite[line])"
   ]
  },
  {
=======
>>>>>>> origin/master
   "cell_type": "markdown",
   "metadata": {},
   "source": [
    "## Using the `csv` module\n",
    "\n",
    "The so-called CSV (Comma Separated Values) format is the most common import and export format for spreadsheets and databases. The csv module implements methods to read and write tabular data in CSV format.\n",
    "\n",
    "The csv module’s `reader()` and `writer()` methods read and write CSV files. You can also read and write data into dictionary form using the `DictReader()` and `DictWriter()` methods.\n",
    "\n",
    "For more information about this built-in Python library about [CSV File Reading and Writing documentation](https://docs.python.org/3/library/csv.html).\n",
    "\n",
    "Let's now read our `data/mydata.txt` space separated file using the `csv` module."
   ]
  },
  {
   "cell_type": "code",
<<<<<<< HEAD
   "execution_count": 42,
   "metadata": {},
   "outputs": [
    {
     "name": "stdout",
     "output_type": "stream",
     "text": [
      "['Index', 'Organism', 'Score']\n",
      "['1', 'Human', '1.076']\n",
      "['2', 'Mouse', '1.202']\n",
      "['3', 'Frog', '2.2362']\n",
      "['4', 'Fly', '0.9853']\n"
     ]
    }
   ],
   "source": [
    "import csv\n",
    "\n",
    "with open(\"data/mydata.txt\") as f:\n",
    "    reader = csv.reader(f, delimiter = \" \") # default delimiter is \",\"\n",
    "    for row in reader:\n",
    "        print(row)\n",
    "        "
=======
   "execution_count": null,
   "metadata": {},
   "outputs": [],
   "source": [
    "import csv\n",
    "with open(\"data/mydata.txt\") as f:\n",
    "    reader = csv.reader(f, delimiter = \" \") # default delimiter is \",\"\n",
    "    for row in reader:\n",
    "        print(row)"
>>>>>>> origin/master
   ]
  },
  {
   "cell_type": "markdown",
   "metadata": {},
   "source": [
    "Change the `csv.reader()` by the `csv.DictReader()` and it builds up a dictionary automatically based on the column headers."
   ]
  },
  {
   "cell_type": "code",
<<<<<<< HEAD
   "execution_count": 53,
   "metadata": {},
   "outputs": [
    {
     "name": "stdout",
     "output_type": "stream",
     "text": [
      "{'Index': '1', 'Score': '1.076', 'Organism': 'Human'}\n",
      "{'Index': '2', 'Score': '1.202', 'Organism': 'Mouse'}\n",
      "{'Index': '3', 'Score': '2.2362', 'Organism': 'Frog'}\n",
      "{'Index': '4', 'Score': '0.9853', 'Organism': 'Fly'}\n"
     ]
    }
   ],
=======
   "execution_count": null,
   "metadata": {},
   "outputs": [],
>>>>>>> origin/master
   "source": [
    "with open(\"data/mydata.txt\") as f:\n",
    "    reader = csv.DictReader(f, delimiter = \" \")\n",
    "    for row in reader:\n",
<<<<<<< HEAD
    "        print(row)\n",
    "\n"
=======
    "        print(row)"
>>>>>>> origin/master
   ]
  },
  {
   "cell_type": "code",
<<<<<<< HEAD
   "execution_count": 54,
   "metadata": {},
   "outputs": [
    {
     "name": "stdout",
     "output_type": "stream",
     "text": [
      "Index\tOrganism\tScore\n",
      "1\tHuman\t1.076\n",
      "2\tMouse\t1.202\n",
      "3\tFrog\t2.2362\n",
      "4\tFly\t0.9853\n",
      "\n"
     ]
    }
   ],
=======
   "execution_count": null,
   "metadata": {},
   "outputs": [],
>>>>>>> origin/master
   "source": [
    "# Write a tab delimited file using the csv module\n",
    "import csv\n",
    "\n",
    "mydata = [\n",
    "    ['1', 'Human', '1.076'], \n",
    "    ['2', 'Mouse', '1.202'], \n",
    "    ['3', 'Frog', '2.2362'], \n",
    "    ['4', 'Fly', '0.9853']\n",
    "]\n",
    "\n",
    "with open(\"data.txt\", \"w\") as f:\n",
    "    writer = csv.writer(f, delimiter='\\t' )\n",
    "    writer.writerow( [ \"Index\", \"Organism\", \"Score\" ] ) # write header\n",
    "    for record in mydata:\n",
    "        writer.writerow( record )\n",
    "\n",
    "# Open the output file and print out its content\n",
    "with open(\"data.txt\") as f:\n",
    "    print(f.read())"
   ]
  },
  {
   "cell_type": "code",
   "execution_count": null,
<<<<<<< HEAD
   "metadata": {
    "collapsed": true
   },
=======
   "metadata": {},
>>>>>>> origin/master
   "outputs": [],
   "source": [
    "# Write a delimited file using the csv module from a list of dictionaries \n",
    "import csv\n",
    "\n",
    "mydata = [\n",
    "    {'Index': '1', 'Score': '1.076', 'Organism': 'Human'}, \n",
    "    {'Index': '2', 'Score': '1.202', 'Organism': 'Mouse'}, \n",
    "    {'Index': '3', 'Score': '2.2362', 'Organism': 'Frog'}, \n",
    "    {'Index': '4', 'Score': '0.9853', 'Organism': 'Fly'}\n",
    "]\n",
    "\n",
    "with open(\"dict_data.txt\", \"w\") as f:\n",
    "    writer = csv.DictWriter(f, mydata[0].keys(), delimiter='\\t')\n",
    "    writer.writeheader() # write header\n",
    "\n",
    "    for record in mydata:\n",
    "        writer.writerow( record )\n",
    "\n",
    "# Open the output file and print out its content\n",
    "with open(\"dict_data.txt\") as f:\n",
    "    print(f.read())"
   ]
  },
  {
   "cell_type": "markdown",
   "metadata": {},
   "source": [
    "## Exercise 3.2\n",
    "\n",
    "Now change the script you wrote for [Exercise 3.1](#Exercise-3.1) to make use of the `csv` module."
   ]
  },
  {
<<<<<<< HEAD
   "cell_type": "code",
   "execution_count": 86,
   "metadata": {},
   "outputs": [
    {
     "name": "stdout",
     "output_type": "stream",
     "text": [
      "file found - data/genes.txt\n",
      "{'TCF7': 37154, 'TNFAIP3': 16098, 'BRCA2': 84194}\n"
     ]
    }
   ],
   "source": [
    "import csv \n",
    "\n",
    "with open(\"data.txt\", \"w\") as f:\n",
    "    writer = csv.writer(f, delimiter='\\t' )\n",
    "    writer.writerow( [ \"Index\", \"Organism\", \"Score\" ] ) # write header\n",
    "    for record in mydata:\n",
    "        writer.writerow( record )\n",
    "\n",
    "\n",
    "\n",
    "filepath = os.path.join(\"data\", \"genes.txt\")\n",
    "\n",
    "def GenLenFrmFile(data_file):\n",
    "    if os.path.exists(data_file):\n",
    "        print('file found - ' + data_file)\n",
    "        with open(data_file) as f:\n",
    "            reader = csv.reader(f, delimiter = \"\\t\")\n",
    "            next(reader, None)  # skip the headers\n",
    "            for row in reader:\n",
    "                #split line in to elements\n",
    "                gene, chrom, start, end = row\n",
    "                \n",
    "                #calculate length \n",
    "                length_o_gene = int(end) - int(start)\n",
    "\n",
    "                #add to the dictionary \n",
    "                geneLenDict[gene] = length_o_gene\n",
    "                \n",
    "            return geneLenDict\n",
    "\n",
    "                \n",
    "\n",
    "def Dict2File_2fields (dictin, filename, header):# appending to a file \n",
    "    with open(filename, 'w') as f:\n",
    "        writer = csv.writer(f, delimiter='\\t')\n",
    "        writer.writerow(header) # write header\n",
    "        for line in dictin: \n",
    "           writer.writerow([line, str(dictin[line])])\n",
    "\n",
    "#Get dictionary from filepath\n",
    "ToWrite = GenLenFrmFile(filepath)\n",
    "\n",
    "print(ToWrite)\n",
    "\n",
    "#Save this in a new text file \n",
    "Dict2File_2fields(ToWrite, 'gene_length.txt', ['gene', 'length'])    \n"
   ]
  },
  {
   "cell_type": "code",
   "execution_count": 82,
   "metadata": {},
   "outputs": [
    {
     "data": {
      "text/plain": [
       "['TCF7', 'TNFAIP3', 'BRCA2']"
      ]
     },
     "execution_count": 82,
     "metadata": {},
     "output_type": "execute_result"
    }
   ],
   "source": [
    "list(ToWrite.keys())"
   ]
  },
  {
=======
>>>>>>> origin/master
   "cell_type": "markdown",
   "metadata": {},
   "source": [
    "## Create your own module\n",
    "\n",
    "So far we have been writing Python code in files as executable scripts without knowing that they are also modules from which we are able to call the different functions defined in them.\n",
    "\n",
    "A module is a file containing Python definitions and statements. The file name is the module name with the suffix .py appended. Create a file called `my_first_module.py` in the current directory with the following contents:"
   ]
  },
  {
   "cell_type": "code",
   "execution_count": null,
   "metadata": {
    "collapsed": true
   },
   "outputs": [],
   "source": [
    "def say_hello(user):\n",
    "    print('hello', user, '!')"
   ]
  },
  {
   "cell_type": "markdown",
   "metadata": {},
   "source": [
    "Now enter the Python interpreter from the directory you've created `my_first_module.py` file and import the `say_hello` function from this module with the following command:\n",
    "\n",
    "```bash\n",
    "python3\n",
    "Python 3.5.2 (default, Jun 30 2016, 18:10:25) \n",
    "[GCC 4.2.1 Compatible Apple LLVM 7.0.2 (clang-700.1.81)] on darwin\n",
    "Type \"help\", \"copyright\", \"credits\" or \"license\" for more information.\n",
    ">>> from my_first_module import say_hello\n",
    ">>> say_hello('Anne')\n",
    "hello Anne !\n",
    ">>> \n",
    "```\n",
    "\n",
    "There is one module already stored in the course directory called `my_first_module.py`, if you wish to import it into this notebook, below is what you need to do. If you wish to edit this file and change the code or add another function, you will have to restart the notebook to have these changes taken into account using the restart the kernel button in the menu bar."
   ]
  },
  {
   "cell_type": "code",
<<<<<<< HEAD
   "execution_count": 87,
   "metadata": {},
   "outputs": [
    {
     "name": "stdout",
     "output_type": "stream",
     "text": [
      "hello Anne !\n"
     ]
    }
   ],
=======
   "execution_count": null,
   "metadata": {},
   "outputs": [],
>>>>>>> origin/master
   "source": [
    "from my_first_module import say_hello\n",
    "say_hello('Anne')"
   ]
  },
  {
   "cell_type": "markdown",
   "metadata": {},
   "source": [
    "A module can contain executable statements as well as function definitions. These statements are intended to initialize the module. They are executed only the first time the module name is encountered in an import statement. \n",
    "They are also run if the file is executed as a script.\n",
    "\n",
    "Do comment out these executable statements if you do not wish to have them executed when importing your module.\n",
    "\n",
    "For more information about modules, https://docs.python.org/3/tutorial/modules.html."
   ]
  },
  {
   "cell_type": "markdown",
   "metadata": {},
   "source": [
    "## Exercise 3.3\n",
    "\n",
    "### Calculate the GC content of a DNA sequence\n",
    "\n",
    "Write a function that calculates the GC content of a DNA sequence.\n",
    "\n",
    "### Extract the list of all overlapping sub-sequences\n",
    "\n",
    "Write a function that extracts a list of overlapping sub-sequences for a given window size from a given sequence. Do not forget to test it on a given DNA sequence."
   ]
  },
  {
<<<<<<< HEAD
   "cell_type": "code",
   "execution_count": 1,
   "metadata": {},
   "outputs": [
    {
     "data": {
      "text/plain": [
       "['ATGGTGCATC',\n",
       " 'TGGTGCATCT',\n",
       " 'GGTGCATCTG',\n",
       " 'GTGCATCTGA',\n",
       " 'TGCATCTGAC',\n",
       " 'GCATCTGACT',\n",
       " 'CATCTGACTC',\n",
       " 'ATCTGACTCC',\n",
       " 'TCTGACTCCT',\n",
       " 'CTGACTCCTG',\n",
       " 'TGACTCCTGA',\n",
       " 'GACTCCTGAG',\n",
       " 'ACTCCTGAGG',\n",
       " 'CTCCTGAGGA',\n",
       " 'TCCTGAGGAG',\n",
       " 'CCTGAGGAGA',\n",
       " 'CTGAGGAGAA',\n",
       " 'TGAGGAGAAG',\n",
       " 'GAGGAGAAGT',\n",
       " 'AGGAGAAGTC',\n",
       " 'GGAGAAGTCT',\n",
       " 'GAGAAGTCTG',\n",
       " 'AGAAGTCTGC',\n",
       " 'GAAGTCTGCC',\n",
       " 'AAGTCTGCCG',\n",
       " 'AGTCTGCCGT',\n",
       " 'GTCTGCCGTT',\n",
       " 'TCTGCCGTTA',\n",
       " 'CTGCCGTTAC',\n",
       " 'TGCCGTTACT',\n",
       " 'GCCGTTACTG',\n",
       " 'CCGTTACTGC',\n",
       " 'CGTTACTGCC',\n",
       " 'GTTACTGCCC',\n",
       " 'TTACTGCCCT',\n",
       " 'TACTGCCCTG',\n",
       " 'ACTGCCCTGT',\n",
       " 'CTGCCCTGTG',\n",
       " 'TGCCCTGTGG',\n",
       " 'GCCCTGTGGG',\n",
       " 'CCCTGTGGGG',\n",
       " 'CCTGTGGGGC',\n",
       " 'CTGTGGGGCA',\n",
       " 'TGTGGGGCAA',\n",
       " 'GTGGGGCAAG',\n",
       " 'TGGGGCAAGG',\n",
       " 'GGGGCAAGGT']"
      ]
     },
     "execution_count": 1,
     "metadata": {},
     "output_type": "execute_result"
    }
   ],
   "source": [
    "dna = 'ATGGTGCATCTGACTCCTGAGGAGAAGTCTGCCGTTACTGCCCTGTGGGGCAAGGTG'\n",
    "\n",
    "def CalcGCcont(dna):\n",
    "    gcnt = 0\n",
    "    ccnt = 0\n",
    "    \n",
    "    for p in dna: \n",
    "        if p == 'G': \n",
    "            gcnt += 1;\n",
    "        if p == 'C':\n",
    "            ccnt += 1;  \n",
    "    \n",
    "    total = gcnt + ccnt \n",
    "    prop = total/len(dna)\n",
    "    \n",
    "    return prop \n",
    "\n",
    "def SeqOverlap(dna, window_size = 10):\n",
    "    \n",
    "    if window_size > len(dna):\n",
    "        print('size of window to big')\n",
    "        return \n",
    "    if window_size <= 0:\n",
    "        print('negative window size is forbidden')\n",
    "    \n",
    "    #calculate max no of overlapping windows\n",
    "    #plus one due to starting at 0 \n",
    "    maxWins = len(dna) - (window_size)\n",
    "    windows = []\n",
    "    ind = 0\n",
    "    for i in range(maxWins): \n",
    "        window = dna[ind:ind+window_size]\n",
    "        windows.append(window)\n",
    "        ind +=1 \n",
    "    \n",
    "    return windows\n",
    "    \n",
    "    \n",
    "CalcGCcont(dna) \n",
    "SeqOverlap(dna)\n",
    "        \n",
    "    "
   ]
  },
  {
   "cell_type": "code",
   "execution_count": 2,
   "metadata": {},
   "outputs": [
    {
     "data": {
      "text/plain": [
       "['ATGGTGCATC',\n",
       " 'TGGTGCATCT',\n",
       " 'GGTGCATCTG',\n",
       " 'GTGCATCTGA',\n",
       " 'TGCATCTGAC',\n",
       " 'GCATCTGACT',\n",
       " 'CATCTGACTC',\n",
       " 'ATCTGACTCC',\n",
       " 'TCTGACTCCT',\n",
       " 'CTGACTCCTG',\n",
       " 'TGACTCCTGA',\n",
       " 'GACTCCTGAG',\n",
       " 'ACTCCTGAGG',\n",
       " 'CTCCTGAGGA',\n",
       " 'TCCTGAGGAG',\n",
       " 'CCTGAGGAGA',\n",
       " 'CTGAGGAGAA',\n",
       " 'TGAGGAGAAG',\n",
       " 'GAGGAGAAGT',\n",
       " 'AGGAGAAGTC',\n",
       " 'GGAGAAGTCT',\n",
       " 'GAGAAGTCTG',\n",
       " 'AGAAGTCTGC',\n",
       " 'GAAGTCTGCC',\n",
       " 'AAGTCTGCCG',\n",
       " 'AGTCTGCCGT',\n",
       " 'GTCTGCCGTT',\n",
       " 'TCTGCCGTTA',\n",
       " 'CTGCCGTTAC',\n",
       " 'TGCCGTTACT',\n",
       " 'GCCGTTACTG',\n",
       " 'CCGTTACTGC',\n",
       " 'CGTTACTGCC',\n",
       " 'GTTACTGCCC',\n",
       " 'TTACTGCCCT',\n",
       " 'TACTGCCCTG',\n",
       " 'ACTGCCCTGT',\n",
       " 'CTGCCCTGTG',\n",
       " 'TGCCCTGTGG',\n",
       " 'GCCCTGTGGG',\n",
       " 'CCCTGTGGGG',\n",
       " 'CCTGTGGGGC',\n",
       " 'CTGTGGGGCA',\n",
       " 'TGTGGGGCAA',\n",
       " 'GTGGGGCAAG',\n",
       " 'TGGGGCAAGG',\n",
       " 'GGGGCAAGGT',\n",
       " 'GGGCAAGGTG']"
      ]
     },
     "execution_count": 2,
     "metadata": {},
     "output_type": "execute_result"
    }
   ],
   "source": [
    "import gen_funs \n",
    "\n",
    "gen_funs.SeqOverlap(dna)"
   ]
  },
  {
=======
>>>>>>> origin/master
   "cell_type": "markdown",
   "metadata": {},
   "source": [
    "## Exercise 3.4\n",
    "### Calculate GC content along the DNA sequence\n",
    "Combine the two methods written above to calculate the GC content of each overlapping sliding window along a DNA sequence from start to end. \n",
    "\n",
    "Import the two methods you wrote above at exercise 3.3, to solve this exercise.\n",
    "\n",
    "The new function should take two arguments, the DNA sequence and the size of the sliding window, and re-use the previous methods written to calculate the GC content of a DNA sequence and to extract the list of all overlapping sub-sequences. It returns a list of GC% along the DNA sequence."
   ]
  },
  {
<<<<<<< HEAD
   "cell_type": "code",
   "execution_count": 6,
   "metadata": {},
   "outputs": [
    {
     "data": {
      "text/plain": [
       "[0.5,\n",
       " 0.55,\n",
       " 0.6,\n",
       " 0.55,\n",
       " 0.55,\n",
       " 0.55,\n",
       " 0.5,\n",
       " 0.5,\n",
       " 0.5,\n",
       " 0.55,\n",
       " 0.5,\n",
       " 0.55,\n",
       " 0.55,\n",
       " 0.6,\n",
       " 0.6,\n",
       " 0.6,\n",
       " 0.55,\n",
       " 0.5,\n",
       " 0.55,\n",
       " 0.5,\n",
       " 0.55,\n",
       " 0.55,\n",
       " 0.55,\n",
       " 0.6,\n",
       " 0.55,\n",
       " 0.6,\n",
       " 0.6,\n",
       " 0.6,\n",
       " 0.65,\n",
       " 0.65,\n",
       " 0.7,\n",
       " 0.7,\n",
       " 0.65,\n",
       " 0.6,\n",
       " 0.6,\n",
       " 0.65,\n",
       " 0.65,\n",
       " 0.7]"
      ]
     },
     "execution_count": 6,
     "metadata": {},
     "output_type": "execute_result"
    }
   ],
   "source": [
    "\n",
    "\n",
    "\n",
    "# def windowGCprop(dna, window):\n",
    "#     seqs = gen_funs.SeqOverlap(dna, window)\n",
    "#     gc_prop_list = []\n",
    "#     for seq in seqs:\n",
    "#         gc_prop_list.append(gen_funs.CalcGCcont(seq))\n",
    "#     return gc_prop_list\n",
    "\n",
    "import gen_funs\n",
    "\n",
    "#from imported module\n",
    "gen_funs.windowGCprop(dna, 20)\n"
   ]
  },
  {
=======
>>>>>>> origin/master
   "cell_type": "markdown",
   "metadata": {},
   "source": [
    "## Next session\n",
    "\n",
    "Go to our next notebook: [python_functions_and_modules_4](python_fm_4.ipynb)"
   ]
  }
 ],
 "metadata": {
  "kernelspec": {
   "display_name": "Python 3",
   "language": "python",
   "name": "python3"
  },
  "language_info": {
   "codemirror_mode": {
    "name": "ipython",
    "version": 3
   },
   "file_extension": ".py",
   "mimetype": "text/x-python",
   "name": "python",
   "nbconvert_exporter": "python",
   "pygments_lexer": "ipython3",
<<<<<<< HEAD
   "version": "3.4.3"
=======
   "version": "3.6.2"
>>>>>>> origin/master
  }
 },
 "nbformat": 4,
 "nbformat_minor": 1
}
